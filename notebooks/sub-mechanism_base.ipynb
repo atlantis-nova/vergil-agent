{
 "cells": [
  {
   "cell_type": "code",
   "execution_count": 1,
   "metadata": {},
   "outputs": [],
   "source": [
    "import os\n",
    "\n",
    "# move directory to the root of this repo\n",
    "os.chdir('\\\\'.join(os.getcwd().split('\\\\')[:-1]))"
   ]
  },
  {
   "cell_type": "code",
   "execution_count": 2,
   "metadata": {},
   "outputs": [],
   "source": [
    "from vergil.llm.main import bot\n",
    "from vergil.conversation.main import conversation\n",
    "from notebooks.config import groq_login\n",
    "\n",
    "os.environ['GROQ_API_KEY'] = groq_login['API_key']\n",
    "\n",
    "mybot = bot(\n",
    "    llm_provider='groq',\n",
    "    api_key=os.getenv('GROQ_API_KEY'),\n",
    "    system_message=f\"\"\"\\\n",
    "\tYou are a fashion expert, helping a customer understand what he wants. \n",
    "\tYour role is to assist the customer through a Socratic method, guiding him through a process of choosing clothing.\n",
    "\tBased on the user response, output the best description that describe the clothes that the user want to search for.\n",
    "\t\"\"\"\n",
    ")"
   ]
  },
  {
   "cell_type": "markdown",
   "metadata": {},
   "source": [
    "### base"
   ]
  },
  {
   "cell_type": "code",
   "execution_count": 3,
   "metadata": {},
   "outputs": [],
   "source": [
    "base_prompt = \"\"\"\\\n",
    "\tHISTORY: {history}\n",
    "\n",
    "\tUSER_COMMENT: {user_comment}\n",
    "\n",
    "\t# follow this exact format\n",
    "\tOUTPUT_EXAMPLE: {output_format} \n",
    "\n",
    "\tINSTRUCTIONS: output a **parsable dict** EXACTLY LIKE the OUTPUT_EXAMPLE, **not code**\n",
    "\t\"bot_comment\": new question or answer to follow up with the customer\n",
    "\t\"clothing_description\": description of the clothing wanted by the user, take the history into accounts\n",
    "\t# USE DOUBLE QUOTES (\" and not ')\n",
    "\t# if the clothing_description is empty, just use \"\"\n",
    "\n",
    "\tCONVERSATION OBJECTIVES:\n",
    "\tAt the end of the conversation, the customer must have decided:\n",
    "    - clothing type (shirt, shoes, trousers... and all the possible ones)\n",
    "\t- clothing material\n",
    "\t- clothing color\n",
    "    Try to ask the questions as soon as possible\n",
    "\n",
    "\tDon't add useless comments to bot_comment (ex. dont worry)\n",
    "\tKeep the clothing description not too rich, i dont want a huge text\n",
    "\t\"\"\"\n",
    "\n",
    "cbase = conversation(\n",
    "    conversation_type='base',\n",
    "    bot=mybot,\n",
    "    base_prompt=base_prompt,\n",
    "    initial_message='Do you already have an clothing in mind?',\n",
    "    subject_name='clothing'\n",
    ")"
   ]
  },
  {
   "cell_type": "code",
   "execution_count": 4,
   "metadata": {},
   "outputs": [
    {
     "data": {
      "text/plain": [
       "{'bot_comment': 'What will you be using the clothing for?',\n",
       " 'clothing_description': ''}"
      ]
     },
     "execution_count": 4,
     "metadata": {},
     "output_type": "execute_result"
    }
   ],
   "source": [
    "cbase.llm_query('not really')"
   ]
  },
  {
   "cell_type": "code",
   "execution_count": 5,
   "metadata": {},
   "outputs": [
    {
     "data": {
      "text/plain": [
       "[{'user_comment': '',\n",
       "  'bot_comment': 'Do you already have an clothing in mind?'},\n",
       " {'user_comment': 'not really',\n",
       "  'bot_comment': 'What will you be using the clothing for?'}]"
      ]
     },
     "execution_count": 5,
     "metadata": {},
     "output_type": "execute_result"
    }
   ],
   "source": [
    "cbase.history"
   ]
  }
 ],
 "metadata": {
  "kernelspec": {
   "display_name": "env1",
   "language": "python",
   "name": "python3"
  },
  "language_info": {
   "codemirror_mode": {
    "name": "ipython",
    "version": 3
   },
   "file_extension": ".py",
   "mimetype": "text/x-python",
   "name": "python",
   "nbconvert_exporter": "python",
   "pygments_lexer": "ipython3",
   "version": "3.12.5"
  }
 },
 "nbformat": 4,
 "nbformat_minor": 2
}
